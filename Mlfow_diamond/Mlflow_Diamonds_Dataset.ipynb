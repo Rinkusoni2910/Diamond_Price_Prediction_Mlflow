{
 "cells": [
  {
   "cell_type": "markdown",
   "metadata": {
    "id": "Y_WNMFjr0YHI"
   },
   "source": [
    "# Serialization and Deserialization of Diamonds Dataset\n",
    "\n",
    "Dataset - diamonds.csv"
   ]
  },
  {
   "cell_type": "markdown",
   "metadata": {
    "id": "_KNC9Jsk6jkO"
   },
   "source": [
    "# About Dataset\n",
    "1. Title : Diamonds Dataset\n",
    "\n",
    "2. the 7th column \"price\" is the values to be predicted.\n",
    "\n",
    "3. Data Type : Mixed ( Numerical + Categorical)\n",
    "\t\n",
    "4. Dataset has nearly 54000 instances.\n",
    "\n",
    "5. It has 10 features.\n",
    "\n",
    "6. Features \n",
    "\n",
    "\tprice : price in US dollars (\\$326--\\$18,823)\n",
    "\n",
    "\tcarat : weight of the diamond (0.2--5.01)\n",
    "\n",
    "\tcut   : quality of the cut (Fair, Good, Very Good, Premium, Ideal)\n",
    "\n",
    "\tcolor : diamond colour, from J (worst) to D (best)\n",
    "\n",
    "\tclarity : a measurement of how clear the diamond is (I1 (worst), SI2, SI1, VS2, VS1, VVS2, VVS1, IF (best))\n",
    "\n",
    "\tx : length in mm (0--10.74)\n",
    "\n",
    "\ty : width in mm (0--58.9)\n",
    "\n",
    "\tz : depth in mm (0--31.8)\n",
    "\n",
    "\tdepth : total depth percentage = z / mean(x, y) = 2 * z / (x + y) (43--79)\n",
    "\n",
    "\ttable : width of top of diamond relative to widest point (43--95)\n",
    "\n",
    "7. Caution : Handle Categorical data before building a model. \n",
    "\n",
    "# Objective \n",
    "Objective of this project is to predict the diamond price.💎\n",
    "by using KNN code ehich is implemented from scratch and then compare this o/p with sklearn knn implementation o/p"
   ]
  },
  {
   "cell_type": "markdown",
   "metadata": {
    "id": "0VrClsS0p3PQ"
   },
   "source": [
    "# steps to be followed:\n",
    "Step - 1: Load the data\n",
    "\n",
    "Step - 2: Perform the EDA on the given dataset\n",
    "\n",
    "Step - 3: Handle Categorical Columns i.e. convert them to numerical representation (TODO - Wisely choose between LabelEncoding and OneHotEncoding)\n",
    "\n",
    "Step - 4: Normalize the data\n",
    "\n",
    "Step - 5: Split the data - Test and Train (recommended 75:25 split)\n",
    "\n",
    "Step - 6: Build KNN Algorithm from scratch and do the predictions for test data. You should not use the sklearn KNN algorithm here. Write the complete code implementation on KNN.\n",
    "\n",
    "Step - 7: Evaluate your model\n",
    "\n",
    "Step - 8: Train a model using sklearn KNN Algorithm and compare the results with your scratch implementation"
   ]
  },
  {
   "cell_type": "code",
   "execution_count": 1,
   "metadata": {
    "id": "HBkcbjBa_9MX"
   },
   "outputs": [],
   "source": [
    "import warnings\n",
    "warnings.filterwarnings('ignore')\n",
    "import pandas as pd\n",
    "import numpy as np\n",
    "from matplotlib import pyplot as plt\n",
    "import time\n",
    "import seaborn as sns\n",
    "from sklearn.model_selection import train_test_split\n",
    "from sklearn.preprocessing import LabelEncoder\n",
    "from sklearn.preprocessing import StandardScaler\n",
    "from sklearn import metrics\n",
    "from sklearn.neighbors import KNeighborsRegressor"
   ]
  },
  {
   "cell_type": "code",
   "execution_count": 2,
   "metadata": {
    "id": "g6Tn4naOEMfZ"
   },
   "outputs": [],
   "source": [
    "df = pd.read_csv('diamonds.csv')"
   ]
  },
  {
   "cell_type": "code",
   "execution_count": 3,
   "metadata": {
    "colab": {
     "base_uri": "https://localhost:8080/",
     "height": 206
    },
    "id": "rcQbDShJEdgv",
    "outputId": "38b3b98d-6f2c-4eca-af60-90a7260b88f8"
   },
   "outputs": [
    {
     "data": {
      "text/html": [
       "<div>\n",
       "<style scoped>\n",
       "    .dataframe tbody tr th:only-of-type {\n",
       "        vertical-align: middle;\n",
       "    }\n",
       "\n",
       "    .dataframe tbody tr th {\n",
       "        vertical-align: top;\n",
       "    }\n",
       "\n",
       "    .dataframe thead th {\n",
       "        text-align: right;\n",
       "    }\n",
       "</style>\n",
       "<table border=\"1\" class=\"dataframe\">\n",
       "  <thead>\n",
       "    <tr style=\"text-align: right;\">\n",
       "      <th></th>\n",
       "      <th>carat</th>\n",
       "      <th>cut</th>\n",
       "      <th>color</th>\n",
       "      <th>clarity</th>\n",
       "      <th>depth</th>\n",
       "      <th>table</th>\n",
       "      <th>price</th>\n",
       "      <th>x</th>\n",
       "      <th>y</th>\n",
       "      <th>z</th>\n",
       "    </tr>\n",
       "  </thead>\n",
       "  <tbody>\n",
       "    <tr>\n",
       "      <th>0</th>\n",
       "      <td>0.23</td>\n",
       "      <td>Ideal</td>\n",
       "      <td>E</td>\n",
       "      <td>SI2</td>\n",
       "      <td>61.5</td>\n",
       "      <td>55.0</td>\n",
       "      <td>326</td>\n",
       "      <td>3.95</td>\n",
       "      <td>3.98</td>\n",
       "      <td>2.43</td>\n",
       "    </tr>\n",
       "    <tr>\n",
       "      <th>1</th>\n",
       "      <td>0.21</td>\n",
       "      <td>Premium</td>\n",
       "      <td>E</td>\n",
       "      <td>SI1</td>\n",
       "      <td>59.8</td>\n",
       "      <td>61.0</td>\n",
       "      <td>326</td>\n",
       "      <td>3.89</td>\n",
       "      <td>3.84</td>\n",
       "      <td>2.31</td>\n",
       "    </tr>\n",
       "    <tr>\n",
       "      <th>2</th>\n",
       "      <td>0.23</td>\n",
       "      <td>Good</td>\n",
       "      <td>E</td>\n",
       "      <td>VS1</td>\n",
       "      <td>56.9</td>\n",
       "      <td>65.0</td>\n",
       "      <td>327</td>\n",
       "      <td>4.05</td>\n",
       "      <td>4.07</td>\n",
       "      <td>2.31</td>\n",
       "    </tr>\n",
       "    <tr>\n",
       "      <th>3</th>\n",
       "      <td>0.29</td>\n",
       "      <td>Premium</td>\n",
       "      <td>I</td>\n",
       "      <td>VS2</td>\n",
       "      <td>62.4</td>\n",
       "      <td>58.0</td>\n",
       "      <td>334</td>\n",
       "      <td>4.20</td>\n",
       "      <td>4.23</td>\n",
       "      <td>2.63</td>\n",
       "    </tr>\n",
       "    <tr>\n",
       "      <th>4</th>\n",
       "      <td>0.31</td>\n",
       "      <td>Good</td>\n",
       "      <td>J</td>\n",
       "      <td>SI2</td>\n",
       "      <td>63.3</td>\n",
       "      <td>58.0</td>\n",
       "      <td>335</td>\n",
       "      <td>4.34</td>\n",
       "      <td>4.35</td>\n",
       "      <td>2.75</td>\n",
       "    </tr>\n",
       "  </tbody>\n",
       "</table>\n",
       "</div>"
      ],
      "text/plain": [
       "   carat      cut color clarity  depth  table  price     x     y     z\n",
       "0   0.23    Ideal     E     SI2   61.5   55.0    326  3.95  3.98  2.43\n",
       "1   0.21  Premium     E     SI1   59.8   61.0    326  3.89  3.84  2.31\n",
       "2   0.23     Good     E     VS1   56.9   65.0    327  4.05  4.07  2.31\n",
       "3   0.29  Premium     I     VS2   62.4   58.0    334  4.20  4.23  2.63\n",
       "4   0.31     Good     J     SI2   63.3   58.0    335  4.34  4.35  2.75"
      ]
     },
     "execution_count": 3,
     "metadata": {},
     "output_type": "execute_result"
    }
   ],
   "source": [
    "df.head()"
   ]
  },
  {
   "cell_type": "markdown",
   "metadata": {
    "id": "VhEaG8XDj_oO"
   },
   "source": [
    "# Check size of dataset"
   ]
  },
  {
   "cell_type": "code",
   "execution_count": 4,
   "metadata": {
    "colab": {
     "base_uri": "https://localhost:8080/"
    },
    "id": "-A_7lG_pjwZv",
    "outputId": "1e9108e7-4a6f-42b4-dced-7b6ea182e3bc"
   },
   "outputs": [
    {
     "data": {
      "text/plain": [
       "(53940, 10)"
      ]
     },
     "execution_count": 4,
     "metadata": {},
     "output_type": "execute_result"
    }
   ],
   "source": [
    "df.shape"
   ]
  },
  {
   "cell_type": "markdown",
   "metadata": {
    "id": "mm6SpnU7pwuV"
   },
   "source": [
    "# Check the Columns of dataset"
   ]
  },
  {
   "cell_type": "code",
   "execution_count": 5,
   "metadata": {
    "colab": {
     "base_uri": "https://localhost:8080/"
    },
    "id": "JqXn-CctpsDB",
    "outputId": "8d6faffa-1a80-4cb5-aab5-88b40b25c746"
   },
   "outputs": [
    {
     "data": {
      "text/plain": [
       "Index(['carat', 'cut', 'color', 'clarity', 'depth', 'table', 'price', 'x', 'y',\n",
       "       'z'],\n",
       "      dtype='object')"
      ]
     },
     "execution_count": 5,
     "metadata": {},
     "output_type": "execute_result"
    }
   ],
   "source": [
    "df.columns"
   ]
  },
  {
   "cell_type": "markdown",
   "metadata": {
    "id": "Eq32O6DZkaK9"
   },
   "source": [
    "# Check Unique values"
   ]
  },
  {
   "cell_type": "code",
   "execution_count": 6,
   "metadata": {
    "colab": {
     "base_uri": "https://localhost:8080/"
    },
    "id": "GFktAvy6kPEG",
    "outputId": "20214944-fa9c-429b-a62c-999c309f9365"
   },
   "outputs": [
    {
     "data": {
      "text/plain": [
       "carat        273\n",
       "cut            5\n",
       "color          7\n",
       "clarity        8\n",
       "depth        184\n",
       "table        127\n",
       "price      11602\n",
       "x            554\n",
       "y            552\n",
       "z            375\n",
       "dtype: int64"
      ]
     },
     "execution_count": 6,
     "metadata": {},
     "output_type": "execute_result"
    }
   ],
   "source": [
    "df.nunique()"
   ]
  },
  {
   "cell_type": "markdown",
   "metadata": {
    "id": "UEt5e9ACksVS"
   },
   "source": [
    "#Check for Null values"
   ]
  },
  {
   "cell_type": "code",
   "execution_count": 7,
   "metadata": {
    "colab": {
     "base_uri": "https://localhost:8080/"
    },
    "id": "zGAIzH98kr5l",
    "outputId": "6027ef0d-ce08-4675-bcb5-f53d68375b97"
   },
   "outputs": [
    {
     "data": {
      "text/plain": [
       "carat      0\n",
       "cut        0\n",
       "color      0\n",
       "clarity    0\n",
       "depth      0\n",
       "table      0\n",
       "price      0\n",
       "x          0\n",
       "y          0\n",
       "z          0\n",
       "dtype: int64"
      ]
     },
     "execution_count": 7,
     "metadata": {},
     "output_type": "execute_result"
    }
   ],
   "source": [
    "df.isnull().sum()"
   ]
  },
  {
   "cell_type": "markdown",
   "metadata": {
    "id": "qRLhK2gak3Fr"
   },
   "source": [
    "we see that there are no null values in the dataset"
   ]
  },
  {
   "cell_type": "markdown",
   "metadata": {
    "id": "bc2h3lFVlZ2b"
   },
   "source": [
    "# Check the datatypes of the attributes"
   ]
  },
  {
   "cell_type": "code",
   "execution_count": 8,
   "metadata": {
    "colab": {
     "base_uri": "https://localhost:8080/"
    },
    "id": "NQY-9_X7kjy2",
    "outputId": "b7f47c4c-88a8-4db7-bd4c-30c5c336b073"
   },
   "outputs": [
    {
     "data": {
      "text/plain": [
       "carat      float64\n",
       "cut         object\n",
       "color       object\n",
       "clarity     object\n",
       "depth      float64\n",
       "table      float64\n",
       "price        int64\n",
       "x          float64\n",
       "y          float64\n",
       "z          float64\n",
       "dtype: object"
      ]
     },
     "execution_count": 8,
     "metadata": {},
     "output_type": "execute_result"
    }
   ],
   "source": [
    "df.dtypes"
   ]
  },
  {
   "cell_type": "markdown",
   "metadata": {
    "id": "0MHdZmzZlsna"
   },
   "source": [
    "# Summarize or Describe entire dataset"
   ]
  },
  {
   "cell_type": "code",
   "execution_count": 9,
   "metadata": {
    "colab": {
     "base_uri": "https://localhost:8080/",
     "height": 459
    },
    "id": "elxMS66vl9i4",
    "outputId": "23f7b031-11dc-480b-f927-8bf1d13fcf45"
   },
   "outputs": [
    {
     "data": {
      "text/html": [
       "<div>\n",
       "<style scoped>\n",
       "    .dataframe tbody tr th:only-of-type {\n",
       "        vertical-align: middle;\n",
       "    }\n",
       "\n",
       "    .dataframe tbody tr th {\n",
       "        vertical-align: top;\n",
       "    }\n",
       "\n",
       "    .dataframe thead th {\n",
       "        text-align: right;\n",
       "    }\n",
       "</style>\n",
       "<table border=\"1\" class=\"dataframe\">\n",
       "  <thead>\n",
       "    <tr style=\"text-align: right;\">\n",
       "      <th></th>\n",
       "      <th>carat</th>\n",
       "      <th>cut</th>\n",
       "      <th>color</th>\n",
       "      <th>clarity</th>\n",
       "      <th>depth</th>\n",
       "      <th>table</th>\n",
       "      <th>price</th>\n",
       "      <th>x</th>\n",
       "      <th>y</th>\n",
       "      <th>z</th>\n",
       "    </tr>\n",
       "  </thead>\n",
       "  <tbody>\n",
       "    <tr>\n",
       "      <th>count</th>\n",
       "      <td>53940.000000</td>\n",
       "      <td>53940</td>\n",
       "      <td>53940</td>\n",
       "      <td>53940</td>\n",
       "      <td>53940.000000</td>\n",
       "      <td>53940.000000</td>\n",
       "      <td>53940.000000</td>\n",
       "      <td>53940.000000</td>\n",
       "      <td>53940.000000</td>\n",
       "      <td>53940.000000</td>\n",
       "    </tr>\n",
       "    <tr>\n",
       "      <th>unique</th>\n",
       "      <td>NaN</td>\n",
       "      <td>5</td>\n",
       "      <td>7</td>\n",
       "      <td>8</td>\n",
       "      <td>NaN</td>\n",
       "      <td>NaN</td>\n",
       "      <td>NaN</td>\n",
       "      <td>NaN</td>\n",
       "      <td>NaN</td>\n",
       "      <td>NaN</td>\n",
       "    </tr>\n",
       "    <tr>\n",
       "      <th>top</th>\n",
       "      <td>NaN</td>\n",
       "      <td>Ideal</td>\n",
       "      <td>G</td>\n",
       "      <td>SI1</td>\n",
       "      <td>NaN</td>\n",
       "      <td>NaN</td>\n",
       "      <td>NaN</td>\n",
       "      <td>NaN</td>\n",
       "      <td>NaN</td>\n",
       "      <td>NaN</td>\n",
       "    </tr>\n",
       "    <tr>\n",
       "      <th>freq</th>\n",
       "      <td>NaN</td>\n",
       "      <td>21551</td>\n",
       "      <td>11292</td>\n",
       "      <td>13065</td>\n",
       "      <td>NaN</td>\n",
       "      <td>NaN</td>\n",
       "      <td>NaN</td>\n",
       "      <td>NaN</td>\n",
       "      <td>NaN</td>\n",
       "      <td>NaN</td>\n",
       "    </tr>\n",
       "    <tr>\n",
       "      <th>mean</th>\n",
       "      <td>0.797940</td>\n",
       "      <td>NaN</td>\n",
       "      <td>NaN</td>\n",
       "      <td>NaN</td>\n",
       "      <td>61.749405</td>\n",
       "      <td>57.457184</td>\n",
       "      <td>3932.799722</td>\n",
       "      <td>5.731157</td>\n",
       "      <td>5.734526</td>\n",
       "      <td>3.538734</td>\n",
       "    </tr>\n",
       "    <tr>\n",
       "      <th>std</th>\n",
       "      <td>0.474011</td>\n",
       "      <td>NaN</td>\n",
       "      <td>NaN</td>\n",
       "      <td>NaN</td>\n",
       "      <td>1.432621</td>\n",
       "      <td>2.234491</td>\n",
       "      <td>3989.439738</td>\n",
       "      <td>1.121761</td>\n",
       "      <td>1.142135</td>\n",
       "      <td>0.705699</td>\n",
       "    </tr>\n",
       "    <tr>\n",
       "      <th>min</th>\n",
       "      <td>0.200000</td>\n",
       "      <td>NaN</td>\n",
       "      <td>NaN</td>\n",
       "      <td>NaN</td>\n",
       "      <td>43.000000</td>\n",
       "      <td>43.000000</td>\n",
       "      <td>326.000000</td>\n",
       "      <td>0.000000</td>\n",
       "      <td>0.000000</td>\n",
       "      <td>0.000000</td>\n",
       "    </tr>\n",
       "    <tr>\n",
       "      <th>25%</th>\n",
       "      <td>0.400000</td>\n",
       "      <td>NaN</td>\n",
       "      <td>NaN</td>\n",
       "      <td>NaN</td>\n",
       "      <td>61.000000</td>\n",
       "      <td>56.000000</td>\n",
       "      <td>950.000000</td>\n",
       "      <td>4.710000</td>\n",
       "      <td>4.720000</td>\n",
       "      <td>2.910000</td>\n",
       "    </tr>\n",
       "    <tr>\n",
       "      <th>50%</th>\n",
       "      <td>0.700000</td>\n",
       "      <td>NaN</td>\n",
       "      <td>NaN</td>\n",
       "      <td>NaN</td>\n",
       "      <td>61.800000</td>\n",
       "      <td>57.000000</td>\n",
       "      <td>2401.000000</td>\n",
       "      <td>5.700000</td>\n",
       "      <td>5.710000</td>\n",
       "      <td>3.530000</td>\n",
       "    </tr>\n",
       "    <tr>\n",
       "      <th>75%</th>\n",
       "      <td>1.040000</td>\n",
       "      <td>NaN</td>\n",
       "      <td>NaN</td>\n",
       "      <td>NaN</td>\n",
       "      <td>62.500000</td>\n",
       "      <td>59.000000</td>\n",
       "      <td>5324.250000</td>\n",
       "      <td>6.540000</td>\n",
       "      <td>6.540000</td>\n",
       "      <td>4.040000</td>\n",
       "    </tr>\n",
       "    <tr>\n",
       "      <th>max</th>\n",
       "      <td>5.010000</td>\n",
       "      <td>NaN</td>\n",
       "      <td>NaN</td>\n",
       "      <td>NaN</td>\n",
       "      <td>79.000000</td>\n",
       "      <td>95.000000</td>\n",
       "      <td>18823.000000</td>\n",
       "      <td>10.740000</td>\n",
       "      <td>58.900000</td>\n",
       "      <td>31.800000</td>\n",
       "    </tr>\n",
       "  </tbody>\n",
       "</table>\n",
       "</div>"
      ],
      "text/plain": [
       "               carat    cut  color clarity         depth         table  \\\n",
       "count   53940.000000  53940  53940   53940  53940.000000  53940.000000   \n",
       "unique           NaN      5      7       8           NaN           NaN   \n",
       "top              NaN  Ideal      G     SI1           NaN           NaN   \n",
       "freq             NaN  21551  11292   13065           NaN           NaN   \n",
       "mean        0.797940    NaN    NaN     NaN     61.749405     57.457184   \n",
       "std         0.474011    NaN    NaN     NaN      1.432621      2.234491   \n",
       "min         0.200000    NaN    NaN     NaN     43.000000     43.000000   \n",
       "25%         0.400000    NaN    NaN     NaN     61.000000     56.000000   \n",
       "50%         0.700000    NaN    NaN     NaN     61.800000     57.000000   \n",
       "75%         1.040000    NaN    NaN     NaN     62.500000     59.000000   \n",
       "max         5.010000    NaN    NaN     NaN     79.000000     95.000000   \n",
       "\n",
       "               price             x             y             z  \n",
       "count   53940.000000  53940.000000  53940.000000  53940.000000  \n",
       "unique           NaN           NaN           NaN           NaN  \n",
       "top              NaN           NaN           NaN           NaN  \n",
       "freq             NaN           NaN           NaN           NaN  \n",
       "mean     3932.799722      5.731157      5.734526      3.538734  \n",
       "std      3989.439738      1.121761      1.142135      0.705699  \n",
       "min       326.000000      0.000000      0.000000      0.000000  \n",
       "25%       950.000000      4.710000      4.720000      2.910000  \n",
       "50%      2401.000000      5.700000      5.710000      3.530000  \n",
       "75%      5324.250000      6.540000      6.540000      4.040000  \n",
       "max     18823.000000     10.740000     58.900000     31.800000  "
      ]
     },
     "execution_count": 9,
     "metadata": {},
     "output_type": "execute_result"
    }
   ],
   "source": [
    "df.describe(include='all')"
   ]
  },
  {
   "cell_type": "code",
   "execution_count": 10,
   "metadata": {
    "colab": {
     "base_uri": "https://localhost:8080/"
    },
    "id": "zleYPtUx-gGi",
    "outputId": "97b91a3a-6410-41a1-aa73-dafe3f3d38c7"
   },
   "outputs": [
    {
     "name": "stdout",
     "output_type": "stream",
     "text": [
      "<class 'pandas.core.frame.DataFrame'>\n",
      "RangeIndex: 53940 entries, 0 to 53939\n",
      "Data columns (total 10 columns):\n",
      " #   Column   Non-Null Count  Dtype  \n",
      "---  ------   --------------  -----  \n",
      " 0   carat    53940 non-null  float64\n",
      " 1   cut      53940 non-null  object \n",
      " 2   color    53940 non-null  object \n",
      " 3   clarity  53940 non-null  object \n",
      " 4   depth    53940 non-null  float64\n",
      " 5   table    53940 non-null  float64\n",
      " 6   price    53940 non-null  int64  \n",
      " 7   x        53940 non-null  float64\n",
      " 8   y        53940 non-null  float64\n",
      " 9   z        53940 non-null  float64\n",
      "dtypes: float64(6), int64(1), object(3)\n",
      "memory usage: 4.1+ MB\n"
     ]
    }
   ],
   "source": [
    "df.info()"
   ]
  },
  {
   "cell_type": "markdown",
   "metadata": {
    "id": "AzHdb90uKVaj"
   },
   "source": [
    "# UNIVARIATE ANALYSIS"
   ]
  },
  {
   "cell_type": "code",
   "execution_count": 11,
   "metadata": {
    "colab": {
     "base_uri": "https://localhost:8080/",
     "height": 796
    },
    "id": "NeTo8q0FKYIw",
    "outputId": "2c5fea48-66e4-4064-ddd7-b30b4bb6082b"
   },
   "outputs": [
    {
     "data": {
      "text/plain": [
       "array([[<AxesSubplot:title={'center':'carat'}>,\n",
       "        <AxesSubplot:title={'center':'depth'}>,\n",
       "        <AxesSubplot:title={'center':'table'}>],\n",
       "       [<AxesSubplot:title={'center':'price'}>,\n",
       "        <AxesSubplot:title={'center':'x'}>,\n",
       "        <AxesSubplot:title={'center':'y'}>],\n",
       "       [<AxesSubplot:title={'center':'z'}>, <AxesSubplot:>,\n",
       "        <AxesSubplot:>]], dtype=object)"
      ]
     },
     "execution_count": 11,
     "metadata": {},
     "output_type": "execute_result"
    },
    {
     "data": {
      "image/png": "[encoded data removed]",
      "text/plain": [
       "<Figure size 1080x864 with 9 Axes>"
      ]
     },
     "metadata": {
      "needs_background": "light"
     },
     "output_type": "display_data"
    }
   ],
   "source": [
    "df.hist(figsize=(15,12))"
   ]
  },
  {
   "cell_type": "markdown",
   "metadata": {
    "id": "_3onbGjJLTET"
   },
   "source": [
    "# Box Plot for numerical attributes to understand outliers"
   ]
  },
  {
   "cell_type": "code",
   "execution_count": 12,
   "metadata": {
    "colab": {
     "base_uri": "https://localhost:8080/",
     "height": 513
    },
    "id": "7VsWI8vNKa6u",
    "outputId": "e4bc83d6-07f1-4187-c306-addf0ee69173"
   },
   "outputs": [
    {
     "data": {
      "image/png": "[encoded data removed]",
      "text/plain": [
       "<Figure size 576x576 with 1 Axes>"
      ]
     },
     "metadata": {
      "needs_background": "light"
     },
     "output_type": "display_data"
    }
   ],
   "source": [
    "import seaborn as sns\n",
    "fig = plt.figure(figsize=(8,8))\n",
    "sns.boxplot(df.depth)\n",
    "plt.title('Depth Boxplot')\n",
    "plt.show()"
   ]
  },
  {
   "cell_type": "code",
   "execution_count": 13,
   "metadata": {
    "colab": {
     "base_uri": "https://localhost:8080/",
     "height": 513
    },
    "id": "O1OJmu_VLzGQ",
    "outputId": "e27f0f11-cd37-433e-e7f9-06bdccbc9ba8"
   },
   "outputs": [
    {
     "data": {
      "image/png": "[encoded data removed]",
      "text/plain": [
       "<Figure size 576x576 with 1 Axes>"
      ]
     },
     "metadata": {
      "needs_background": "light"
     },
     "output_type": "display_data"
    }
   ],
   "source": [
    "fig = plt.figure(figsize=(8,8))\n",
    "sns.boxplot(df.carat)\n",
    "plt.title('carat Boxplot')\n",
    "plt.show()"
   ]
  },
  {
   "cell_type": "code",
   "execution_count": 14,
   "metadata": {
    "colab": {
     "base_uri": "https://localhost:8080/",
     "height": 513
    },
    "id": "PsMFTurnNdoK",
    "outputId": "d466da17-1f3c-4182-d5e4-d860f02cb438"
   },
   "outputs": [
    {
     "data": {
      "image/png": "[encoded data removed]",
      "text/plain": [
       "<Figure size 576x576 with 1 Axes>"
      ]
     },
     "metadata": {
      "needs_background": "light"
     },
     "output_type": "display_data"
    }
   ],
   "source": [
    "fig = plt.figure(figsize=(8,8))\n",
    "sns.boxplot(df.table)\n",
    "plt.title('table  Boxplot')\n",
    "plt.show()"
   ]
  },
  {
   "cell_type": "code",
   "execution_count": 15,
   "metadata": {
    "colab": {
     "base_uri": "https://localhost:8080/",
     "height": 513
    },
    "id": "r4HDRFVhNjX0",
    "outputId": "43add6af-dc5b-45c2-dcaa-9addf65567b3"
   },
   "outputs": [
    {
     "data": {
      "image/png": "[encoded data removed]",
      "text/plain": [
       "<Figure size 576x576 with 1 Axes>"
      ]
     },
     "metadata": {
      "needs_background": "light"
     },
     "output_type": "display_data"
    }
   ],
   "source": [
    "fig = plt.figure(figsize=(8,8))\n",
    "sns.boxplot(df.x)\n",
    "plt.title('x Boxplot')\n",
    "plt.show()"
   ]
  },
  {
   "cell_type": "code",
   "execution_count": 16,
   "metadata": {
    "colab": {
     "base_uri": "https://localhost:8080/",
     "height": 513
    },
    "id": "zpdwX5o-Nqzg",
    "outputId": "1b7d0daa-93e9-46cd-d8bc-9266ec7548b6"
   },
   "outputs": [
    {
     "data": {
      "image/png": "[encoded data removed]",
      "text/plain": [
       "<Figure size 576x576 with 1 Axes>"
      ]
     },
     "metadata": {
      "needs_background": "light"
     },
     "output_type": "display_data"
    }
   ],
   "source": [
    "fig = plt.figure(figsize=(8,8))\n",
    "sns.boxplot(df.y)\n",
    "plt.title('y Boxplot')\n",
    "plt.show()"
   ]
  },
  {
   "cell_type": "code",
   "execution_count": 17,
   "metadata": {
    "colab": {
     "base_uri": "https://localhost:8080/",
     "height": 513
    },
    "id": "4CYxTGV0N0Cx",
    "outputId": "048a8494-909d-4d57-c846-2d2486a77d69"
   },
   "outputs": [
    {
     "data": {
      "image/png": "[encoded data removed]",
      "text/plain": [
       "<Figure size 576x576 with 1 Axes>"
      ]
     },
     "metadata": {
      "needs_background": "light"
     },
     "output_type": "display_data"
    }
   ],
   "source": [
    "fig = plt.figure(figsize=(8,8))\n",
    "sns.boxplot(df.z)\n",
    "plt.title('z Boxplot')\n",
    "plt.show()"
   ]
  },
  {
   "cell_type": "markdown",
   "metadata": {
    "id": "SIuaSbJzN-hj"
   },
   "source": [
    "#Box Plot for categorical variables\n",
    "#Diamond Cut vs Price\n"
   ]
  },
  {
   "cell_type": "code",
   "execution_count": 18,
   "metadata": {
    "colab": {
     "base_uri": "https://localhost:8080/",
     "height": 513
    },
    "id": "gEhvY1WtN6Qu",
    "outputId": "4aacbbe0-4a36-4454-f0ec-462a37021094"
   },
   "outputs": [
    {
     "data": {
      "image/png": "[encoded data removed]",
      "text/plain": [
       "<Figure size 576x576 with 1 Axes>"
      ]
     },
     "metadata": {
      "needs_background": "light"
     },
     "output_type": "display_data"
    }
   ],
   "source": [
    "fig = plt.figure(figsize=(8,8))\n",
    "sns.boxplot(y=df.price,x=df.cut)\n",
    "plt.title(\"Diamond cut vs Price\")\n",
    "plt.show()"
   ]
  },
  {
   "cell_type": "markdown",
   "metadata": {
    "id": "0ePftDnxOM2g"
   },
   "source": [
    "# Diamond color vs Price"
   ]
  },
  {
   "cell_type": "code",
   "execution_count": 19,
   "metadata": {
    "colab": {
     "base_uri": "https://localhost:8080/",
     "height": 513
    },
    "id": "IkNeX4UAOLlR",
    "outputId": "dfe7e39c-33be-4c23-c5eb-28f9146329ec"
   },
   "outputs": [
    {
     "data": {
      "image/png": "[encoded data removed]",
      "text/plain": [
       "<Figure size 576x576 with 1 Axes>"
      ]
     },
     "metadata": {
      "needs_background": "light"
     },
     "output_type": "display_data"
    }
   ],
   "source": [
    "fig = plt.figure(figsize=(8,8))\n",
    "sns.boxplot(y=df.price,x=df.color)\n",
    "plt.title(\"Diamond color vs Price\")\n",
    "plt.show()"
   ]
  },
  {
   "cell_type": "markdown",
   "metadata": {
    "id": "0s_LDdirOYGe"
   },
   "source": [
    "# Diamond clarity vs Price"
   ]
  },
  {
   "cell_type": "code",
   "execution_count": 20,
   "metadata": {
    "colab": {
     "base_uri": "https://localhost:8080/",
     "height": 513
    },
    "id": "TVseg6nCOHdY",
    "outputId": "46c752eb-d30f-4d2d-97c3-8da36a91fe58"
   },
   "outputs": [
    {
     "data": {
      "image/png": "[encoded data removed]",
      "text/plain": [
       "<Figure size 576x576 with 1 Axes>"
      ]
     },
     "metadata": {
      "needs_background": "light"
     },
     "output_type": "display_data"
    }
   ],
   "source": [
    "fig = plt.figure(figsize=(8,8))\n",
    "sns.boxplot(y=df.price,x=df.color)\n",
    "plt.title(\"Diamond clarity vs Price\")\n",
    "plt.show()"
   ]
  },
  {
   "cell_type": "markdown",
   "metadata": {
    "id": "vfBtfvnNY-UC"
   },
   "source": [
    "# Correlation Plot"
   ]
  },
  {
   "cell_type": "code",
   "execution_count": 21,
   "metadata": {
    "colab": {
     "base_uri": "https://localhost:8080/",
     "height": 838
    },
    "id": "9wlQG9RZZBJG",
    "outputId": "a362fe0d-8c7c-4157-bfb6-9585ec221cb3"
   },
   "outputs": [
    {
     "data": {
      "text/plain": [
       "<AxesSubplot:>"
      ]
     },
     "execution_count": 21,
     "metadata": {},
     "output_type": "execute_result"
    },
    {
     "data": {
      "image/png": "[encoded data removed]",
      "text/plain": [
       "<Figure size 1080x1080 with 2 Axes>"
      ]
     },
     "metadata": {
      "needs_background": "light"
     },
     "output_type": "display_data"
    }
   ],
   "source": [
    "import seaborn as sns\n",
    "plt.figure(figsize=(15,15))\n",
    "sns.heatmap(df.corr(),annot=True)"
   ]
  },
  {
   "cell_type": "markdown",
   "metadata": {
    "id": "qL_MzrEkSa2u"
   },
   "source": [
    "# Observation :\n",
    "We can observe that the Price of the Diamond is highly correlated to Carat, and its Dimensions(x, y, z)\n",
    "\n",
    "As the Dimensions increases, Obviously the Prices Rises as more and more Natural Resources are Utilised."
   ]
  },
  {
   "cell_type": "markdown",
   "metadata": {
    "id": "9Lxaig6iNuMN"
   },
   "source": [
    "#  order of \"Price\" column"
   ]
  },
  {
   "cell_type": "code",
   "execution_count": 22,
   "metadata": {
    "id": "T4bFvbh9CwQS"
   },
   "outputs": [],
   "source": [
    "df2 = df.iloc[:,[0,1,2,3,4,5,7,8,9,6]]"
   ]
  },
  {
   "cell_type": "markdown",
   "metadata": {
    "id": "SlhiJdUHMduF"
   },
   "source": [
    "# Detect Outlier"
   ]
  },
  {
   "cell_type": "code",
   "execution_count": 23,
   "metadata": {
    "colab": {
     "base_uri": "https://localhost:8080/"
    },
    "id": "TADOE--WDGzD",
    "outputId": "764223c2-38de-4c6a-a89d-67664d3e5a7e"
   },
   "outputs": [
    {
     "name": "stdout",
     "output_type": "stream",
     "text": [
      "Mean for carat is 0.7979397478679852\n",
      "Median for carat is 0.7\n",
      "Mean for depth is 61.74940489432624\n",
      "Median for depth is 61.8\n",
      "Mean for table is 57.45718390804603\n",
      "Median for table is 57.0\n",
      "Mean for x is 5.731157211716609\n",
      "Median for x is 5.7\n",
      "Mean for y is 5.734525954764462\n",
      "Median for y is 5.71\n",
      "Mean for z is 3.5387337782723316\n",
      "Median for z is 3.53\n"
     ]
    }
   ],
   "source": [
    "col_name = df2.select_dtypes(include=['int','float']).columns\n",
    "\n",
    "\n",
    "for i in col_name:\n",
    "  mean = df2[i].mean()\n",
    "  med =  df2[i].median()\n",
    "  print(f'Mean for {i} is {mean}')\n",
    "  print(f'Median for {i} is {med}')"
   ]
  },
  {
   "cell_type": "markdown",
   "metadata": {
    "id": "bUfmH7twMYJS"
   },
   "source": [
    "# Treat Outliers"
   ]
  },
  {
   "cell_type": "code",
   "execution_count": 24,
   "metadata": {
    "id": "P4FKc_xHDL2N"
   },
   "outputs": [],
   "source": [
    "def outliers(col_name):\n",
    "  Q1 = np.percentile(df2[col_name], 25,\n",
    "                   interpolation = 'midpoint')\n",
    " \n",
    "  Q3 = np.percentile(df2[col_name], 75,\n",
    "                   interpolation = 'midpoint')\n",
    "  IQR = Q3 - Q1\n",
    "\n",
    "  upper = Q3+(1.5*IQR)\n",
    "  lower = Q1-(1.5*IQR)\n",
    "  df2.drop(df2[(df2[col_name] > upper) | (df2[col_name] < lower)].index, inplace=True)"
   ]
  },
  {
   "cell_type": "code",
   "execution_count": 25,
   "metadata": {
    "colab": {
     "base_uri": "https://localhost:8080/"
    },
    "id": "oZXSqO80DQik",
    "outputId": "27078e1a-6dde-4daf-8b42-ac045bf6a2dd"
   },
   "outputs": [
    {
     "data": {
      "text/plain": [
       "((40455, 9), (13485, 9), (40455,), (13485,))"
      ]
     },
     "execution_count": 25,
     "metadata": {},
     "output_type": "execute_result"
    }
   ],
   "source": [
    "X = df2.iloc[:,:9]\n",
    "y = df2['price']\n",
    "X_train, X_test, y_train, y_test = train_test_split(X, y, test_size = 0.25)\n",
    "X_train.shape ,X_test.shape, y_train.shape, y_test.shape\n"
   ]
  },
  {
   "cell_type": "markdown",
   "metadata": {
    "id": "TFOGjzXYMmcJ"
   },
   "source": [
    "# Check Categorical data"
   ]
  },
  {
   "cell_type": "code",
   "execution_count": 26,
   "metadata": {
    "colab": {
     "base_uri": "https://localhost:8080/",
     "height": 206
    },
    "id": "6BPImh-9Dzgf",
    "outputId": "dde49426-f09f-4bf1-814f-377ca50ee9db"
   },
   "outputs": [
    {
     "data": {
      "text/html": [
       "<div>\n",
       "<style scoped>\n",
       "    .dataframe tbody tr th:only-of-type {\n",
       "        vertical-align: middle;\n",
       "    }\n",
       "\n",
       "    .dataframe tbody tr th {\n",
       "        vertical-align: top;\n",
       "    }\n",
       "\n",
       "    .dataframe thead th {\n",
       "        text-align: right;\n",
       "    }\n",
       "</style>\n",
       "<table border=\"1\" class=\"dataframe\">\n",
       "  <thead>\n",
       "    <tr style=\"text-align: right;\">\n",
       "      <th></th>\n",
       "      <th>cut</th>\n",
       "      <th>color</th>\n",
       "      <th>clarity</th>\n",
       "    </tr>\n",
       "  </thead>\n",
       "  <tbody>\n",
       "    <tr>\n",
       "      <th>25755</th>\n",
       "      <td>Good</td>\n",
       "      <td>E</td>\n",
       "      <td>VS2</td>\n",
       "    </tr>\n",
       "    <tr>\n",
       "      <th>52113</th>\n",
       "      <td>Very Good</td>\n",
       "      <td>G</td>\n",
       "      <td>SI1</td>\n",
       "    </tr>\n",
       "    <tr>\n",
       "      <th>40442</th>\n",
       "      <td>Good</td>\n",
       "      <td>E</td>\n",
       "      <td>VS1</td>\n",
       "    </tr>\n",
       "    <tr>\n",
       "      <th>11368</th>\n",
       "      <td>Ideal</td>\n",
       "      <td>I</td>\n",
       "      <td>VS1</td>\n",
       "    </tr>\n",
       "    <tr>\n",
       "      <th>18170</th>\n",
       "      <td>Premium</td>\n",
       "      <td>G</td>\n",
       "      <td>VVS2</td>\n",
       "    </tr>\n",
       "  </tbody>\n",
       "</table>\n",
       "</div>"
      ],
      "text/plain": [
       "             cut color clarity\n",
       "25755       Good     E     VS2\n",
       "52113  Very Good     G     SI1\n",
       "40442       Good     E     VS1\n",
       "11368      Ideal     I     VS1\n",
       "18170    Premium     G    VVS2"
      ]
     },
     "execution_count": 26,
     "metadata": {},
     "output_type": "execute_result"
    }
   ],
   "source": [
    "X_train_cat = X_train.select_dtypes(include=['object'])\n",
    "X_train_cat.head()"
   ]
  },
  {
   "cell_type": "markdown",
   "metadata": {
    "id": "LjVGe_d-4HVA"
   },
   "source": [
    "# Check Numerical Columns"
   ]
  },
  {
   "cell_type": "code",
   "execution_count": 27,
   "metadata": {
    "id": "SVROJ_RSMn4U"
   },
   "outputs": [],
   "source": [
    "# Importing LabelEncoder Module\n",
    "from sklearn.preprocessing import LabelEncoder\n",
    "le = LabelEncoder()\n",
    "X_train['cut']=le.fit_transform(X_train['cut'])\n",
    "X_train['color']=le.fit_transform(X_train['color'])\n",
    "X_train['clarity']=le.fit_transform(X_train['clarity'])\n"
   ]
  },
  {
   "cell_type": "code",
   "execution_count": 28,
   "metadata": {
    "id": "SrJwdF1iNKWg"
   },
   "outputs": [],
   "source": [
    "\n",
    "X_test['cut']=le.fit_transform(X_test['cut'])\n",
    "X_test['color']=le.fit_transform(X_test['color'])\n",
    "X_test['clarity']=le.fit_transform(X_test['clarity'])"
   ]
  },
  {
   "cell_type": "markdown",
   "metadata": {
    "id": "YNW2cs7rNSw8"
   },
   "source": [
    "# Standardization"
   ]
  },
  {
   "cell_type": "code",
   "execution_count": 29,
   "metadata": {
    "colab": {
     "base_uri": "https://localhost:8080/",
     "height": 250
    },
    "id": "MVUIy476NM1z",
    "outputId": "e87361bc-58bb-4391-9440-c7916646ec63"
   },
   "outputs": [
    {
     "data": {
      "text/html": [
       "<div>\n",
       "<style scoped>\n",
       "    .dataframe tbody tr th:only-of-type {\n",
       "        vertical-align: middle;\n",
       "    }\n",
       "\n",
       "    .dataframe tbody tr th {\n",
       "        vertical-align: top;\n",
       "    }\n",
       "\n",
       "    .dataframe thead th {\n",
       "        text-align: right;\n",
       "    }\n",
       "</style>\n",
       "<table border=\"1\" class=\"dataframe\">\n",
       "  <thead>\n",
       "    <tr style=\"text-align: right;\">\n",
       "      <th></th>\n",
       "      <th>carat</th>\n",
       "      <th>cut</th>\n",
       "      <th>color</th>\n",
       "      <th>clarity</th>\n",
       "      <th>depth</th>\n",
       "      <th>table</th>\n",
       "      <th>x</th>\n",
       "      <th>y</th>\n",
       "      <th>z</th>\n",
       "    </tr>\n",
       "  </thead>\n",
       "  <tbody>\n",
       "    <tr>\n",
       "      <th>25755</th>\n",
       "      <td>1.497167</td>\n",
       "      <td>-1.513334</td>\n",
       "      <td>-0.939859</td>\n",
       "      <td>0.672172</td>\n",
       "      <td>0.593356</td>\n",
       "      <td>1.133865</td>\n",
       "      <td>1.325265</td>\n",
       "      <td>1.377565</td>\n",
       "      <td>1.410365</td>\n",
       "    </tr>\n",
       "    <tr>\n",
       "      <th>52113</th>\n",
       "      <td>-0.101653</td>\n",
       "      <td>1.408815</td>\n",
       "      <td>0.235401</td>\n",
       "      <td>-1.068757</td>\n",
       "      <td>0.383982</td>\n",
       "      <td>0.687726</td>\n",
       "      <td>0.034389</td>\n",
       "      <td>0.067842</td>\n",
       "      <td>0.099479</td>\n",
       "    </tr>\n",
       "    <tr>\n",
       "      <th>40442</th>\n",
       "      <td>-0.837951</td>\n",
       "      <td>-1.513334</td>\n",
       "      <td>-0.939859</td>\n",
       "      <td>0.091863</td>\n",
       "      <td>1.430851</td>\n",
       "      <td>-0.204552</td>\n",
       "      <td>-0.900384</td>\n",
       "      <td>-0.930043</td>\n",
       "      <td>-0.760350</td>\n",
       "    </tr>\n",
       "    <tr>\n",
       "      <th>11368</th>\n",
       "      <td>0.508423</td>\n",
       "      <td>-0.539285</td>\n",
       "      <td>1.410660</td>\n",
       "      <td>0.091863</td>\n",
       "      <td>0.802729</td>\n",
       "      <td>-6.450501</td>\n",
       "      <td>0.639765</td>\n",
       "      <td>0.602423</td>\n",
       "      <td>0.705588</td>\n",
       "    </tr>\n",
       "    <tr>\n",
       "      <th>18170</th>\n",
       "      <td>0.445312</td>\n",
       "      <td>0.434765</td>\n",
       "      <td>0.235401</td>\n",
       "      <td>1.832792</td>\n",
       "      <td>-1.639964</td>\n",
       "      <td>0.241587</td>\n",
       "      <td>0.710986</td>\n",
       "      <td>0.691520</td>\n",
       "      <td>0.550536</td>\n",
       "    </tr>\n",
       "  </tbody>\n",
       "</table>\n",
       "</div>"
      ],
      "text/plain": [
       "          carat       cut     color   clarity     depth     table         x  \\\n",
       "25755  1.497167 -1.513334 -0.939859  0.672172  0.593356  1.133865  1.325265   \n",
       "52113 -0.101653  1.408815  0.235401 -1.068757  0.383982  0.687726  0.034389   \n",
       "40442 -0.837951 -1.513334 -0.939859  0.091863  1.430851 -0.204552 -0.900384   \n",
       "11368  0.508423 -0.539285  1.410660  0.091863  0.802729 -6.450501  0.639765   \n",
       "18170  0.445312  0.434765  0.235401  1.832792 -1.639964  0.241587  0.710986   \n",
       "\n",
       "              y         z  \n",
       "25755  1.377565  1.410365  \n",
       "52113  0.067842  0.099479  \n",
       "40442 -0.930043 -0.760350  \n",
       "11368  0.602423  0.705588  \n",
       "18170  0.691520  0.550536  "
      ]
     },
     "execution_count": 29,
     "metadata": {},
     "output_type": "execute_result"
    }
   ],
   "source": [
    "from sklearn.preprocessing import StandardScaler\n",
    "scaler = StandardScaler()\n",
    "X_train_transformed = pd.DataFrame(scaler.fit_transform(X_train),\n",
    "                                columns = X_train.columns,\n",
    "                                index = X_train.index)\n",
    "X_train_transformed.head()"
   ]
  },
  {
   "cell_type": "code",
   "execution_count": 30,
   "metadata": {
    "colab": {
     "base_uri": "https://localhost:8080/",
     "height": 250
    },
    "id": "tSGzBg-xNaqg",
    "outputId": "6a3771ab-eabd-4d10-bb7d-97bf09926798"
   },
   "outputs": [
    {
     "data": {
      "text/html": [
       "<div>\n",
       "<style scoped>\n",
       "    .dataframe tbody tr th:only-of-type {\n",
       "        vertical-align: middle;\n",
       "    }\n",
       "\n",
       "    .dataframe tbody tr th {\n",
       "        vertical-align: top;\n",
       "    }\n",
       "\n",
       "    .dataframe thead th {\n",
       "        text-align: right;\n",
       "    }\n",
       "</style>\n",
       "<table border=\"1\" class=\"dataframe\">\n",
       "  <thead>\n",
       "    <tr style=\"text-align: right;\">\n",
       "      <th></th>\n",
       "      <th>carat</th>\n",
       "      <th>cut</th>\n",
       "      <th>color</th>\n",
       "      <th>clarity</th>\n",
       "      <th>depth</th>\n",
       "      <th>table</th>\n",
       "      <th>x</th>\n",
       "      <th>y</th>\n",
       "      <th>z</th>\n",
       "    </tr>\n",
       "  </thead>\n",
       "  <tbody>\n",
       "    <tr>\n",
       "      <th>6024</th>\n",
       "      <td>0.424275</td>\n",
       "      <td>-1.513334</td>\n",
       "      <td>-1.527489</td>\n",
       "      <td>-0.488447</td>\n",
       "      <td>1.779807</td>\n",
       "      <td>-1.989109</td>\n",
       "      <td>0.541837</td>\n",
       "      <td>0.495507</td>\n",
       "      <td>0.733779</td>\n",
       "    </tr>\n",
       "    <tr>\n",
       "      <th>27889</th>\n",
       "      <td>-1.048322</td>\n",
       "      <td>-0.539285</td>\n",
       "      <td>0.823030</td>\n",
       "      <td>1.252482</td>\n",
       "      <td>-0.383722</td>\n",
       "      <td>-0.204552</td>\n",
       "      <td>-1.274293</td>\n",
       "      <td>-1.197333</td>\n",
       "      <td>-1.239598</td>\n",
       "    </tr>\n",
       "    <tr>\n",
       "      <th>44305</th>\n",
       "      <td>-0.564469</td>\n",
       "      <td>0.434765</td>\n",
       "      <td>-0.939859</td>\n",
       "      <td>0.672172</td>\n",
       "      <td>-0.244139</td>\n",
       "      <td>0.241587</td>\n",
       "      <td>-0.437449</td>\n",
       "      <td>-0.484559</td>\n",
       "      <td>-0.478439</td>\n",
       "    </tr>\n",
       "    <tr>\n",
       "      <th>37326</th>\n",
       "      <td>-0.648617</td>\n",
       "      <td>0.434765</td>\n",
       "      <td>-0.352229</td>\n",
       "      <td>-0.488447</td>\n",
       "      <td>-0.662886</td>\n",
       "      <td>1.133865</td>\n",
       "      <td>-0.544280</td>\n",
       "      <td>-0.618204</td>\n",
       "      <td>-0.633490</td>\n",
       "    </tr>\n",
       "    <tr>\n",
       "      <th>15177</th>\n",
       "      <td>0.445312</td>\n",
       "      <td>0.434765</td>\n",
       "      <td>-0.352229</td>\n",
       "      <td>0.672172</td>\n",
       "      <td>0.453773</td>\n",
       "      <td>0.241587</td>\n",
       "      <td>0.621960</td>\n",
       "      <td>0.557874</td>\n",
       "      <td>0.635110</td>\n",
       "    </tr>\n",
       "  </tbody>\n",
       "</table>\n",
       "</div>"
      ],
      "text/plain": [
       "          carat       cut     color   clarity     depth     table         x  \\\n",
       "6024   0.424275 -1.513334 -1.527489 -0.488447  1.779807 -1.989109  0.541837   \n",
       "27889 -1.048322 -0.539285  0.823030  1.252482 -0.383722 -0.204552 -1.274293   \n",
       "44305 -0.564469  0.434765 -0.939859  0.672172 -0.244139  0.241587 -0.437449   \n",
       "37326 -0.648617  0.434765 -0.352229 -0.488447 -0.662886  1.133865 -0.544280   \n",
       "15177  0.445312  0.434765 -0.352229  0.672172  0.453773  0.241587  0.621960   \n",
       "\n",
       "              y         z  \n",
       "6024   0.495507  0.733779  \n",
       "27889 -1.197333 -1.239598  \n",
       "44305 -0.484559 -0.478439  \n",
       "37326 -0.618204 -0.633490  \n",
       "15177  0.557874  0.635110  "
      ]
     },
     "execution_count": 30,
     "metadata": {},
     "output_type": "execute_result"
    }
   ],
   "source": [
    "X_test_transformed = pd.DataFrame(scaler.transform(X_test),\n",
    "                               columns = X_test.columns,\n",
    "                               index = X_test.index)\n",
    "X_test_transformed.head()"
   ]
  },
  {
   "cell_type": "code",
   "execution_count": 31,
   "metadata": {
    "colab": {
     "base_uri": "https://localhost:8080/"
    },
    "id": "pRJV4ZIoZj5U",
    "outputId": "5e992302-2d83-49b2-bba0-ce021d04ceec"
   },
   "outputs": [
    {
     "name": "stdout",
     "output_type": "stream",
     "text": [
      "Requirement already satisfied: mlflow in c:\\users\\admin\\anaconda3\\lib\\site-packages (1.29.0)\n",
      "Requirement already satisfied: scipy<2 in c:\\users\\admin\\anaconda3\\lib\\site-packages (from mlflow) (1.6.2)\n",
      "Requirement already satisfied: cloudpickle<3 in c:\\users\\admin\\anaconda3\\lib\\site-packages (from mlflow) (1.6.0)\n",
      "Requirement already satisfied: querystring-parser<2 in c:\\users\\admin\\anaconda3\\lib\\site-packages (from mlflow) (1.2.4)\n",
      "Requirement already satisfied: entrypoints<1 in c:\\users\\admin\\anaconda3\\lib\\site-packages (from mlflow) (0.3)\n",
      "Requirement already satisfied: pyyaml<7,>=5.1 in c:\\users\\admin\\anaconda3\\lib\\site-packages (from mlflow) (5.4.1)\n",
      "Requirement already satisfied: alembic<2 in c:\\users\\admin\\anaconda3\\lib\\site-packages (from mlflow) (1.8.1)\n",
      "Requirement already satisfied: waitress<3 in c:\\users\\admin\\anaconda3\\lib\\site-packages (from mlflow) (2.1.2)\n",
      "Requirement already satisfied: protobuf<5,>=3.12.0 in c:\\users\\admin\\anaconda3\\lib\\site-packages (from mlflow) (3.20.1)\n",
      "Requirement already satisfied: pytz<2023 in c:\\users\\admin\\anaconda3\\lib\\site-packages (from mlflow) (2021.1)\n",
      "Requirement already satisfied: requests<3,>=2.17.3 in c:\\users\\admin\\anaconda3\\lib\\site-packages (from mlflow) (2.28.1)\n",
      "Requirement already satisfied: docker<7,>=4.0.0 in c:\\users\\admin\\anaconda3\\lib\\site-packages (from mlflow) (6.0.0)\n",
      "Requirement already satisfied: packaging<22 in c:\\users\\admin\\anaconda3\\lib\\site-packages (from mlflow) (20.9)\n",
      "Requirement already satisfied: importlib-metadata!=4.7.0,<5,>=3.7.0 in c:\\users\\admin\\anaconda3\\lib\\site-packages (from mlflow) (3.10.0)\n",
      "Requirement already satisfied: prometheus-flask-exporter<1 in c:\\users\\admin\\anaconda3\\lib\\site-packages (from mlflow) (0.20.3)\n",
      "Requirement already satisfied: Flask<3 in c:\\users\\admin\\anaconda3\\lib\\site-packages (from mlflow) (1.1.2)\n",
      "Requirement already satisfied: databricks-cli<1,>=0.8.7 in c:\\users\\admin\\anaconda3\\lib\\site-packages (from mlflow) (0.17.3)\n",
      "Requirement already satisfied: sqlparse<1,>=0.4.0 in c:\\users\\admin\\anaconda3\\lib\\site-packages (from mlflow) (0.4.3)\n",
      "Requirement already satisfied: numpy<2 in c:\\users\\admin\\anaconda3\\lib\\site-packages (from mlflow) (1.20.1)\n",
      "Requirement already satisfied: sqlalchemy<2,>=1.4.0 in c:\\users\\admin\\anaconda3\\lib\\site-packages (from mlflow) (1.4.7)\n",
      "Requirement already satisfied: click<9,>=7.0 in c:\\users\\admin\\anaconda3\\lib\\site-packages (from mlflow) (7.1.2)\n",
      "Requirement already satisfied: pandas<2 in c:\\users\\admin\\anaconda3\\lib\\site-packages (from mlflow) (1.2.4)\n",
      "Requirement already satisfied: gitpython<4,>=2.1.0 in c:\\users\\admin\\anaconda3\\lib\\site-packages (from mlflow) (3.1.27)\n",
      "Requirement already satisfied: importlib-resources in c:\\users\\admin\\anaconda3\\lib\\site-packages (from alembic<2->mlflow) (5.9.0)\n",
      "Requirement already satisfied: Mako in c:\\users\\admin\\anaconda3\\lib\\site-packages (from alembic<2->mlflow) (1.2.3)\n",
      "Requirement already satisfied: pyjwt>=1.7.0 in c:\\users\\admin\\anaconda3\\lib\\site-packages (from databricks-cli<1,>=0.8.7->mlflow) (2.5.0)\n",
      "Requirement already satisfied: six>=1.10.0 in c:\\users\\admin\\anaconda3\\lib\\site-packages (from databricks-cli<1,>=0.8.7->mlflow) (1.15.0)\n",
      "Requirement already satisfied: tabulate>=0.7.7 in c:\\users\\admin\\anaconda3\\lib\\site-packages (from databricks-cli<1,>=0.8.7->mlflow) (0.8.10)\n",
      "Requirement already satisfied: oauthlib>=3.1.0 in c:\\users\\admin\\anaconda3\\lib\\site-packages (from databricks-cli<1,>=0.8.7->mlflow) (3.2.1)\n",
      "Requirement already satisfied: urllib3>=1.26.0 in c:\\users\\admin\\anaconda3\\lib\\site-packages (from docker<7,>=4.0.0->mlflow) (1.26.4)\n",
      "Collecting pywin32>=304\n",
      "  Using cached pywin32-304-cp38-cp38-win_amd64.whl (12.3 MB)\n",
      "Requirement already satisfied: websocket-client>=0.32.0 in c:\\users\\admin\\anaconda3\\lib\\site-packages (from docker<7,>=4.0.0->mlflow) (1.4.1)\n",
      "Requirement already satisfied: Werkzeug>=0.15 in c:\\users\\admin\\anaconda3\\lib\\site-packages (from Flask<3->mlflow) (1.0.1)\n",
      "Requirement already satisfied: Jinja2>=2.10.1 in c:\\users\\admin\\anaconda3\\lib\\site-packages (from Flask<3->mlflow) (2.11.3)\n",
      "Requirement already satisfied: itsdangerous>=0.24 in c:\\users\\admin\\anaconda3\\lib\\site-packages (from Flask<3->mlflow) (1.1.0)\n",
      "Requirement already satisfied: gitdb<5,>=4.0.1 in c:\\users\\admin\\anaconda3\\lib\\site-packages (from gitpython<4,>=2.1.0->mlflow) (4.0.9)\n",
      "Requirement already satisfied: smmap<6,>=3.0.1 in c:\\users\\admin\\anaconda3\\lib\\site-packages (from gitdb<5,>=4.0.1->gitpython<4,>=2.1.0->mlflow) (5.0.0)\n",
      "Requirement already satisfied: zipp>=0.5 in c:\\users\\admin\\anaconda3\\lib\\site-packages (from importlib-metadata!=4.7.0,<5,>=3.7.0->mlflow) (3.4.1)\n",
      "Requirement already satisfied: MarkupSafe>=0.23 in c:\\users\\admin\\anaconda3\\lib\\site-packages (from Jinja2>=2.10.1->Flask<3->mlflow) (1.1.1)\n",
      "Requirement already satisfied: pyparsing>=2.0.2 in c:\\users\\admin\\anaconda3\\lib\\site-packages (from packaging<22->mlflow) (2.4.7)\n",
      "Requirement already satisfied: python-dateutil>=2.7.3 in c:\\users\\admin\\anaconda3\\lib\\site-packages (from pandas<2->mlflow) (2.8.1)\n",
      "Requirement already satisfied: prometheus-client in c:\\users\\admin\\anaconda3\\lib\\site-packages (from prometheus-flask-exporter<1->mlflow) (0.10.1)\n",
      "Requirement already satisfied: charset-normalizer<3,>=2 in c:\\users\\admin\\anaconda3\\lib\\site-packages (from requests<3,>=2.17.3->mlflow) (2.1.1)\n",
      "Requirement already satisfied: idna<4,>=2.5 in c:\\users\\admin\\anaconda3\\lib\\site-packages (from requests<3,>=2.17.3->mlflow) (2.10)\n",
      "Requirement already satisfied: certifi>=2017.4.17 in c:\\users\\admin\\anaconda3\\lib\\site-packages (from requests<3,>=2.17.3->mlflow) (2020.12.5)\n",
      "Requirement already satisfied: greenlet!=0.4.17 in c:\\users\\admin\\anaconda3\\lib\\site-packages (from sqlalchemy<2,>=1.4.0->mlflow) (1.0.0)\n",
      "Installing collected packages: pywin32\n",
      "Successfully installed pywin32-304\n"
     ]
    }
   ],
   "source": [
    "!pip install mlflow --user\n",
    "import mlflow"
   ]
  },
  {
   "cell_type": "code",
   "execution_count": 41,
   "metadata": {
    "colab": {
     "base_uri": "https://localhost:8080/"
    },
    "id": "7Yd1EV9RZ4x5",
    "outputId": "f2ca68b7-64b9-4eeb-d290-15102f39e4be"
   },
   "outputs": [
    {
     "name": "stderr",
     "output_type": "stream",
     "text": [
      "2022/10/01 19:30:07 INFO mlflow.tracking.fluent: Experiment with name 'Diamond Price Prediction' does not exist. Creating a new experiment.\n"
     ]
    },
    {
     "data": {
      "text/plain": [
       "<Experiment: artifact_location='./mlruns/1', creation_time=1664632807657, experiment_id='1', last_update_time=1664632807657, lifecycle_stage='active', name='Diamond Price Prediction', tags={}>"
      ]
     },
     "execution_count": 41,
     "metadata": {},
     "output_type": "execute_result"
    }
   ],
   "source": [
    "mlflow.set_tracking_uri(\"sqlite:///mlflow.db\")\n",
    "\n",
    "mlflow.set_experiment(\"Diamond Price Prediction\")"
   ]
  },
  {
   "cell_type": "code",
   "execution_count": 42,
   "metadata": {
    "id": "DusSChbFaUtk"
   },
   "outputs": [],
   "source": [
    "from sklearn.neighbors import KNeighborsRegressor\n",
    "from sklearn.ensemble import RandomForestRegressor\n",
    "from sklearn.tree import DecisionTreeRegressor\n",
    "from sklearn import metrics"
   ]
  },
  {
   "cell_type": "code",
   "execution_count": 43,
   "metadata": {
    "id": "i4zGlbE7LsSv"
   },
   "outputs": [],
   "source": [
    "import pickle\n",
    "from pickle import dump\n",
    "dump(scaler, open('models/standard_scaler.pkl', 'wb'))"
   ]
  },
  {
   "cell_type": "code",
   "execution_count": 44,
   "metadata": {
    "id": "xm7ILpcMcS5a"
   },
   "outputs": [],
   "source": [
    "#Experiment 1 - Training KNN Classifier\n",
    "with mlflow.start_run():\n",
    "    \n",
    "    mlflow.set_tag('dev', 'Rinku Soni')\n",
    "    mlflow.set_tag('algo', 'KNN')\n",
    "    mlflow.log_param('data-path', 'data/diamonds.csv')\n",
    "    \n",
    "    knn_regressor = KNeighborsRegressor()\n",
    "    knn_regressor.fit(X_train_transformed, y_train)\n",
    "    \n",
    "    y_test_pred = knn_regressor.predict(X_test_transformed)\n",
    "    \n",
    "    mae = metrics.mean_absolute_error(y_test, y_test_pred)\n",
    "    mse = metrics.mean_squared_error(y_test, y_test_pred)\n",
    "    msqe = np.sqrt(metrics.mean_squared_error(y_test, y_test_pred))\n",
    "    \n",
    "    mlflow.log_metric('mean_ab_error', mae)\n",
    "    mlflow.log_metric('mean_sqr_error', mse)\n",
    "    mlflow.log_metric('mean_srt_error', msqe)\n",
    "    \n",
    "    mlflow.sklearn.log_model(knn_regressor, artifact_path='models')\n",
    "    mlflow.log_artifact('models/standard_scaler.pkl')"
   ]
  },
  {
   "cell_type": "code",
   "execution_count": 45,
   "metadata": {
    "colab": {
     "base_uri": "https://localhost:8080/"
    },
    "id": "PJy9z8r8ikst",
    "outputId": "5cf290a1-39bc-46e1-b66d-3d317131bd05"
   },
   "outputs": [
    {
     "name": "stdout",
     "output_type": "stream",
     "text": [
      "Mean Absolute Error:  411.7661253244346\n",
      "Mean Squared Error:  686410.3354987024\n",
      "Root Mean Squared Error:  828.4988445970836\n"
     ]
    }
   ],
   "source": [
    "print('Mean Absolute Error: ', metrics.mean_absolute_error(y_test, y_test_pred))\n",
    "\n",
    "print('Mean Squared Error: ', metrics.mean_squared_error(y_test, y_test_pred))\n",
    "\n",
    "print('Root Mean Squared Error: ', np.sqrt(metrics.mean_squared_error(y_test, y_test_pred)))"
   ]
  },
  {
   "cell_type": "code",
   "execution_count": 46,
   "metadata": {
    "id": "2raL_QQP85jR"
   },
   "outputs": [],
   "source": [
    "#Experiment 2: Random Forest\n",
    "from sklearn.ensemble import RandomForestRegressor\n",
    "with mlflow.start_run():\n",
    "    mlflow.set_tag('dev', 'Rinku Soni')\n",
    "    mlflow.set_tag('algo', 'Random Forest')\n",
    "    mlflow.log_param('data-path', 'data/diamonds.csv')\n",
    "    \n",
    "    rf_regressor = RandomForestRegressor()\n",
    "    rf_regressor.fit(X_train_transformed, y_train, y_train)\n",
    "    \n",
    "    y_test_pred = rf_regressor.predict(X_test_transformed)\n",
    "\n",
    "    mae = metrics.mean_absolute_error(y_test, y_test_pred)\n",
    "    mse = metrics.mean_squared_error(y_test, y_test_pred)\n",
    "    msqe = np.sqrt(metrics.mean_squared_error(y_test, y_test_pred))\n",
    "    \n",
    "    mlflow.log_metric('mean_ab_error', mae)\n",
    "    mlflow.log_metric('mean_sqr_error', mse)\n",
    "    mlflow.log_metric('mean_srt_error', msqe)\n",
    "    \n",
    "    mlflow.sklearn.log_model(rf_regressor, artifact_path='models')\n",
    "    mlflow.log_artifact('models/standard_scaler.pkl')"
   ]
  },
  {
   "cell_type": "code",
   "execution_count": 47,
   "metadata": {
    "colab": {
     "base_uri": "https://localhost:8080/"
    },
    "id": "JwVKRzZ3ipaq",
    "outputId": "123bc697-eb2f-4b40-8ab5-cc0c50ab4806"
   },
   "outputs": [
    {
     "name": "stdout",
     "output_type": "stream",
     "text": [
      "Mean Absolute Error:  273.7975161795798\n",
      "Mean Squared Error:  308573.2951991402\n",
      "Root Mean Squared Error:  555.4937400179593\n"
     ]
    }
   ],
   "source": [
    "print('Mean Absolute Error: ', metrics.mean_absolute_error(y_test, y_test_pred))\n",
    "\n",
    "print('Mean Squared Error: ', metrics.mean_squared_error(y_test, y_test_pred))\n",
    "\n",
    "print('Root Mean Squared Error: ', np.sqrt(metrics.mean_squared_error(y_test, y_test_pred)))"
   ]
  },
  {
   "cell_type": "code",
   "execution_count": 48,
   "metadata": {
    "id": "1pBOtMUqiJWv"
   },
   "outputs": [],
   "source": [
    "with mlflow.start_run():\n",
    "    mlflow.set_tag('dev', 'Rinku Soni')\n",
    "    mlflow.set_tag('algo', 'Decision Tree')\n",
    "    mlflow.log_param('data-path', 'data/diamonds.csv')\n",
    "\n",
    "    dt_regressor = DecisionTreeRegressor()\n",
    "    dt_regressor.fit(X_train_transformed, y_train)\n",
    "\n",
    "    y_test_pred = dt_regressor.predict(X_test_transformed)\n",
    "    \n",
    "    mae = metrics.mean_absolute_error(y_test, y_test_pred)\n",
    "    mse = metrics.mean_squared_error(y_test, y_test_pred)\n",
    "    msqe = np.sqrt(metrics.mean_squared_error(y_test, y_test_pred))\n",
    "    \n",
    "    mlflow.log_metric('mean_ab_error', mae)\n",
    "    mlflow.log_metric('mean_sqr_error', mse)\n",
    "    mlflow.log_metric('mean_srt_error', msqe)\n",
    "    \n",
    "    mlflow.sklearn.log_model(dt_regressor, artifact_path='models')\n",
    "    mlflow.log_artifact('models/standard_scaler.pkl')"
   ]
  },
  {
   "cell_type": "code",
   "execution_count": 49,
   "metadata": {
    "colab": {
     "base_uri": "https://localhost:8080/"
    },
    "id": "Q-GLU2Bbi1xI",
    "outputId": "c0cd8632-ec88-4cfe-b138-51d96aa41374"
   },
   "outputs": [
    {
     "name": "stdout",
     "output_type": "stream",
     "text": [
      "Mean Absolute Error:  366.88787541713015\n",
      "Mean Squared Error:  573210.783277716\n",
      "Root Mean Squared Error:  757.1068506345165\n"
     ]
    }
   ],
   "source": [
    "print('Mean Absolute Error: ', metrics.mean_absolute_error(y_test, y_test_pred))\n",
    "\n",
    "print('Mean Squared Error: ', metrics.mean_squared_error(y_test, y_test_pred))\n",
    "\n",
    "print('Root Mean Squared Error: ', np.sqrt(metrics.mean_squared_error(y_test, y_test_pred)))"
   ]
  }
 ],
 "metadata": {
  "colab": {
   "collapsed_sections": [
    "qL_MzrEkSa2u"
   ],
   "provenance": []
  },
  "kernelspec": {
   "display_name": "Python 3",
   "language": "python",
   "name": "python3"
  },
  "language_info": {
   "codemirror_mode": {
    "name": "ipython",
    "version": 3
   },
   "file_extension": ".py",
   "mimetype": "text/x-python",
   "name": "python",
   "nbconvert_exporter": "python",
   "pygments_lexer": "ipython3",
   "version": "3.8.8"
  },
  "vscode": {
   "interpreter": {
    "hash": "e3a928b85d63b2ef9b6ccf12e8d329d0cbc7130b7b94533fcc116c9895f7d050"
   }
  }
 },
 "nbformat": 4,
 "nbformat_minor": 1
}
